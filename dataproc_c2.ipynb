{
  "cells": [
    {
      "cell_type": "markdown",
      "source": [
        "![image.png](data:image/png;base64,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)"
      ],
      "metadata": {
        "id": "U9Y_DbYGzG-S"
      }
    },
    {
      "cell_type": "markdown",
      "source": [
        "# 🖥️ Processamento de Dados: Vantagens da utilização de Linguagens de Programação"
      ],
      "metadata": {
        "id": "4hnstlZdnsat"
      }
    },
    {
      "cell_type": "markdown",
      "source": [
        "___\n",
        "\n",
        "Autor: Nuno S. Osório\n",
        "(email: nosorio@med.uminho.pt; linkedin: https://www.linkedin.com/in/nunososorio/)\n",
        "\n",
        "Data: 21 e 22 de maio 2024\n",
        "\n",
        "Versão Interativa: https://tinyurl.com/cienciadados2\n",
        "___\n",
        "\n",
        "\n",
        "\n",
        "### Nesta aula, vamos usar computação cloud e a linguagem R para processamento de dados na forma de texto.\n",
        "\n",
        "Os objectivos definidos para a aprendizagem são:\n",
        "\n",
        "1. **Identificar vantagens da utilização da liguagem R e de computação cloud para o processamento de dados** 🌐;\n",
        "\n",
        "2. **Utilizar a liguagem R para manipular matrizes de dados**\n",
        "\n",
        "2. **Aplicar diferentes formas de normalização de dados e entender a sua importância e impacto** ;\n",
        "\n",
        "3. **Utilizar python para redução de dimensionalidade e comparar métodos como PCA, t-SNE e UMAP** ☁️;\n"
      ],
      "metadata": {
        "id": "Q6FwR4Dz4xoU"
      }
    },
    {
      "cell_type": "markdown",
      "metadata": {
        "id": "aGRi0O3MxEdj"
      },
      "source": [
        "# Vantagens do R para processamento de dados\n"
      ]
    },
    {
      "cell_type": "markdown",
      "source": [
        "\n",
        "## As vantagens que identificamos anteriormente para Python são semelhantes às do R. Com a ajuda da IA, as oportunidades e a facilidade de aprender a programar em R são notáveis. As principais vantagens são:\n",
        "\n",
        "1. **Código Aberto**: R é uma linguagem de programação de código aberto, o que significa que é livre para usar e modificar.\n",
        "\n",
        "2. **Bibliotecas Úteis**: R possui uma vasta gama de bibliotecas úteis para análise de dados e visualização.\n",
        "\n",
        "3. **Reprodutibilidade**: R permite a reprodutibilidade dos resultados, o que é crucial na ciência de dados.\n",
        "\n",
        "4. **Eficiência**: R é eficiente na manipulação e análise de grandes conjuntos de dados.\n",
        "\n",
        "Em resumo, R e outras linguagens de programação, como Python, são ferramentas incrivelmente úteis para a ciência de dados, tornando a análise de dados mais acessível e eficiente. 📊\n",
        "\n"
      ],
      "metadata": {
        "id": "ZvPaUruU5ae9"
      }
    },
    {
      "cell_type": "markdown",
      "source": [
        "Pode aceder à versão interativa deste documento no Google Colab seguindo este link: https://tinyurl.com/cienciadados2"
      ],
      "metadata": {
        "id": "ld0csGIIp5yp"
      }
    },
    {
      "cell_type": "code",
      "source": [
        "# Carregar a biblioteca necessária\n",
        "library(lubridate)\n",
        "\n",
        "# Obter a hora atual\n",
        "agora <- format(now(), \"%H:%M:%S\")\n",
        "\n",
        "# Obter a versão do R\n",
        "versao_r <- R.version$version.string\n",
        "\n",
        "# Imprimir a mensagem\n",
        "print(paste(\"Olá MinhoMD! São\", agora, \". Estamos a usar o R na versão\", versao_r))"
      ],
      "metadata": {
        "id": "6ySedZInXeDI",
        "outputId": "12ea4c79-dbdd-4a98-e14b-202a12a987c4",
        "colab": {
          "base_uri": "https://localhost:8080/"
        }
      },
      "execution_count": 12,
      "outputs": [
        {
          "output_type": "stream",
          "name": "stdout",
          "text": [
            "[1] \"Olá MinhoMD! São 09:16:59 . Estamos a usar o R na versão R version 4.4.0 (2024-04-24)\"\n"
          ]
        }
      ]
    },
    {
      "cell_type": "markdown",
      "source": [
        "# Comandos para manipulação de Tabelas no R"
      ],
      "metadata": {
        "id": "ugeyJXEYPAri"
      }
    },
    {
      "cell_type": "markdown",
      "source": [
        "A primeira etapa é importar os dados que queremos analisar para a nossa sessão de R"
      ],
      "metadata": {
        "id": "7nk2xfX0PU9R"
      }
    },
    {
      "cell_type": "code",
      "source": [
        "# Specify the URL of the file\n",
        "url <- \"https://raw.githubusercontent.com/nunososorio/medicaldatascience/main/counts.csv\"\n",
        "\n",
        "# Specify the local filename\n",
        "filename <- \"counts.csv\"\n",
        "\n",
        "# Download the file\n",
        "download.file(url, destfile = filename)\n",
        "\n",
        "# Ler o ficheiro CSV com a primeira coluna como nomes das linhas\n",
        "# A função read.csv lê o ficheiro CSV e cria um data frame (que neste caso é uma matriz)\n",
        "# O parâmetro row.names = 1 indica que a primeira coluna deve ser usada como nomes das linhas\n",
        "data <- read.csv(filename, row.names = 1)\n",
        "data"
      ],
      "metadata": {
        "id": "SQT5Z6ZhPUbA",
        "outputId": "35e9dcf1-af21-4b9c-8a6d-3f08e8e8dcdf",
        "colab": {
          "base_uri": "https://localhost:8080/",
          "height": 1000
        }
      },
      "execution_count": 15,
      "outputs": [
        {
          "output_type": "display_data",
          "data": {
            "text/html": [
              "<table class=\"dataframe\">\n",
              "<caption>A data.frame: 56980 × 6</caption>\n",
              "<thead>\n",
              "\t<tr><th></th><th scope=col>Con1</th><th scope=col>Con2</th><th scope=col>Con3</th><th scope=col>Ko1</th><th scope=col>Ko2</th><th scope=col>Ko3</th></tr>\n",
              "\t<tr><th></th><th scope=col>&lt;int&gt;</th><th scope=col>&lt;int&gt;</th><th scope=col>&lt;int&gt;</th><th scope=col>&lt;int&gt;</th><th scope=col>&lt;int&gt;</th><th scope=col>&lt;int&gt;</th></tr>\n",
              "</thead>\n",
              "<tbody>\n",
              "\t<tr><th scope=row>ENSMUSG00000102628</th><td>  0</td><td>   0</td><td>   0</td><td>  0</td><td>   0</td><td>   0</td></tr>\n",
              "\t<tr><th scope=row>ENSMUSG00000100595</th><td>  0</td><td>   0</td><td>   0</td><td>  0</td><td>   0</td><td>   0</td></tr>\n",
              "\t<tr><th scope=row>ENSMUSG00000097426</th><td>  0</td><td>   0</td><td>   2</td><td>  0</td><td>   0</td><td>   0</td></tr>\n",
              "\t<tr><th scope=row>ENSMUSG00000104478</th><td>  0</td><td>   0</td><td>   0</td><td>  0</td><td>   0</td><td>   0</td></tr>\n",
              "\t<tr><th scope=row>ENSMUSG00000104385</th><td>  0</td><td>   0</td><td>   0</td><td>  0</td><td>   0</td><td>   0</td></tr>\n",
              "\t<tr><th scope=row>ENSMUSG00000086053</th><td>  0</td><td>   0</td><td>   0</td><td>  0</td><td>   0</td><td>   0</td></tr>\n",
              "\t<tr><th scope=row>ENSMUSG00000101231</th><td>  0</td><td>   0</td><td>   0</td><td>  0</td><td>   0</td><td>   0</td></tr>\n",
              "\t<tr><th scope=row>ENSMUSG00000102135</th><td>  6</td><td>   0</td><td>   9</td><td>  0</td><td>  12</td><td>   2</td></tr>\n",
              "\t<tr><th scope=row>ENSMUSG00000103282</th><td>  0</td><td>   0</td><td>   0</td><td>  0</td><td>   0</td><td>   0</td></tr>\n",
              "\t<tr><th scope=row>ENSMUSG00000101097</th><td>  0</td><td>   0</td><td>   0</td><td>  0</td><td>   0</td><td>   0</td></tr>\n",
              "\t<tr><th scope=row>ENSMUSG00000100764</th><td>  1</td><td>  17</td><td>   8</td><td>  0</td><td>   4</td><td>  12</td></tr>\n",
              "\t<tr><th scope=row>ENSMUSG00000102095</th><td>  0</td><td>   4</td><td>   0</td><td>  0</td><td>   0</td><td>   2</td></tr>\n",
              "\t<tr><th scope=row>ENSMUSG00000102534</th><td>  0</td><td>   0</td><td>   3</td><td>  0</td><td>   0</td><td>   0</td></tr>\n",
              "\t<tr><th scope=row>ENSMUSG00000100831</th><td>  0</td><td>   0</td><td>   0</td><td>  0</td><td>   0</td><td>   0</td></tr>\n",
              "\t<tr><th scope=row>ENSMUSG00000100884</th><td>  0</td><td>   0</td><td>   0</td><td>  0</td><td>   0</td><td>   0</td></tr>\n",
              "\t<tr><th scope=row>ENSMUSG00000100635</th><td>  0</td><td>   0</td><td>   0</td><td>  0</td><td>   0</td><td>   0</td></tr>\n",
              "\t<tr><th scope=row>ENSMUSG00000102213</th><td>  0</td><td>   0</td><td>   0</td><td>  0</td><td>   0</td><td>   0</td></tr>\n",
              "\t<tr><th scope=row>ENSMUSG00000100480</th><td>  2</td><td>   0</td><td>  18</td><td>  2</td><td>   6</td><td>   4</td></tr>\n",
              "\t<tr><th scope=row>ENSMUSG00000089037</th><td>  0</td><td>   0</td><td>   0</td><td>  0</td><td>   0</td><td>   0</td></tr>\n",
              "\t<tr><th scope=row>ENSMUSG00000103629</th><td>  0</td><td>   0</td><td>   0</td><td>  0</td><td>   0</td><td>   0</td></tr>\n",
              "\t<tr><th scope=row>ENSMUSG00002076531</th><td>  0</td><td>   0</td><td>   0</td><td>  0</td><td>   0</td><td>   0</td></tr>\n",
              "\t<tr><th scope=row>ENSMUSG00000100025</th><td>  8</td><td>   0</td><td>   6</td><td>  0</td><td>   0</td><td>   0</td></tr>\n",
              "\t<tr><th scope=row>ENSMUSG00000051285</th><td>912</td><td>2910</td><td>9632</td><td>818</td><td>3940</td><td>7162</td></tr>\n",
              "\t<tr><th scope=row>ENSMUSG00000098201</th><td>  0</td><td>   0</td><td>   0</td><td>  0</td><td>   0</td><td>   0</td></tr>\n",
              "\t<tr><th scope=row>ENSMUSG00000103509</th><td>  0</td><td>   2</td><td>  24</td><td>  0</td><td>   0</td><td>   0</td></tr>\n",
              "\t<tr><th scope=row>ENSMUSG00000048538</th><td> 24</td><td> 188</td><td> 522</td><td> 18</td><td> 337</td><td> 360</td></tr>\n",
              "\t<tr><th scope=row>ENSMUSG00000103709</th><td>  0</td><td>   0</td><td>   0</td><td>  0</td><td>   0</td><td>   0</td></tr>\n",
              "\t<tr><th scope=row>ENSMUSG00000077244</th><td>  0</td><td>   0</td><td>   0</td><td>  0</td><td>   0</td><td>   0</td></tr>\n",
              "\t<tr><th scope=row>ENSMUSG00000102768</th><td>  0</td><td>   0</td><td>   0</td><td>  0</td><td>   0</td><td>   0</td></tr>\n",
              "\t<tr><th scope=row>ENSMUSG00000097797</th><td> 18</td><td>  40</td><td>  28</td><td>  0</td><td>   0</td><td>  13</td></tr>\n",
              "\t<tr><th scope=row>⋮</th><td>⋮</td><td>⋮</td><td>⋮</td><td>⋮</td><td>⋮</td><td>⋮</td></tr>\n",
              "\t<tr><th scope=row>ENSMUSG00000096236</th><td>  0</td><td>   0</td><td>   0</td><td>  0</td><td>   0</td><td>   0</td></tr>\n",
              "\t<tr><th scope=row>ENSMUSG00000096756</th><td>  0</td><td>   0</td><td>   0</td><td>  0</td><td>   0</td><td>   0</td></tr>\n",
              "\t<tr><th scope=row>ENSMUSG00000095666</th><td>  0</td><td>   0</td><td>   0</td><td>  0</td><td>   0</td><td>   0</td></tr>\n",
              "\t<tr><th scope=row>ENSMUSG00000096680</th><td>  0</td><td>   0</td><td>   0</td><td>  0</td><td>   0</td><td>   0</td></tr>\n",
              "\t<tr><th scope=row>ENSMUSG00000095505</th><td>  0</td><td>   0</td><td>   0</td><td>  0</td><td>   0</td><td>   0</td></tr>\n",
              "\t<tr><th scope=row>ENSMUSG00000094741</th><td>  0</td><td>   0</td><td>   0</td><td>  0</td><td>   0</td><td>   0</td></tr>\n",
              "\t<tr><th scope=row>ENSMUSG00000074720</th><td>  0</td><td>   0</td><td>   0</td><td>  0</td><td>   0</td><td>   0</td></tr>\n",
              "\t<tr><th scope=row>ENSMUSG00000094337</th><td>  0</td><td>   0</td><td>   0</td><td>  0</td><td>   0</td><td>   0</td></tr>\n",
              "\t<tr><th scope=row>ENSMUSG00000095570</th><td>  0</td><td>   0</td><td>   0</td><td>  0</td><td>   0</td><td>   0</td></tr>\n",
              "\t<tr><th scope=row>ENSMUSG00000096728</th><td>  0</td><td>   0</td><td>   0</td><td>  0</td><td>   0</td><td>   0</td></tr>\n",
              "\t<tr><th scope=row>ENSMUSG00000094722</th><td>  0</td><td>   0</td><td>   0</td><td>  0</td><td>   0</td><td>   0</td></tr>\n",
              "\t<tr><th scope=row>ENSMUSG00000095728</th><td>  0</td><td>   0</td><td>   0</td><td>  0</td><td>   0</td><td>   0</td></tr>\n",
              "\t<tr><th scope=row>ENSMUSG00000095076</th><td>  0</td><td>   0</td><td>   0</td><td>  0</td><td>   0</td><td>   0</td></tr>\n",
              "\t<tr><th scope=row>ENSMUSG00000096776</th><td>  0</td><td>   0</td><td>   0</td><td>  0</td><td>   0</td><td>   0</td></tr>\n",
              "\t<tr><th scope=row>ENSMUSG00000096244</th><td>  0</td><td>   0</td><td>   0</td><td>  0</td><td>   0</td><td>   0</td></tr>\n",
              "\t<tr><th scope=row>ENSMUSG00000079800</th><td>  0</td><td>   0</td><td>   0</td><td>  0</td><td>   0</td><td>   0</td></tr>\n",
              "\t<tr><th scope=row>ENSMUSG00000095092</th><td>  0</td><td>   0</td><td>   0</td><td>  0</td><td>   0</td><td>   0</td></tr>\n",
              "\t<tr><th scope=row>ENSMUSG00000079192</th><td>  0</td><td>   0</td><td>   4</td><td>  0</td><td>   4</td><td>   0</td></tr>\n",
              "\t<tr><th scope=row>ENSMUSG00000079794</th><td>  0</td><td>   0</td><td>   0</td><td>  0</td><td>   0</td><td>   0</td></tr>\n",
              "\t<tr><th scope=row>ENSMUSG00000094799</th><td>  0</td><td>   0</td><td>   0</td><td>  0</td><td>   0</td><td>   0</td></tr>\n",
              "\t<tr><th scope=row>ENSMUSG00000095019</th><td>  0</td><td>   0</td><td>   0</td><td>  0</td><td>   0</td><td>   0</td></tr>\n",
              "\t<tr><th scope=row>ENSMUSG00000094915</th><td>  0</td><td>   0</td><td>   0</td><td>  0</td><td>   0</td><td>   0</td></tr>\n",
              "\t<tr><th scope=row>ENSMUSG00000079808</th><td>  0</td><td>  28</td><td>  12</td><td>  0</td><td>   5</td><td>   4</td></tr>\n",
              "\t<tr><th scope=row>ENSMUSG00000095041</th><td>773</td><td>3590</td><td>9950</td><td>301</td><td>1720</td><td>2172</td></tr>\n",
              "\t<tr><th scope=row>ENSMUSG00002075400</th><td>  0</td><td>   0</td><td>   0</td><td>  0</td><td>   0</td><td>   0</td></tr>\n",
              "\t<tr><th scope=row>ENSMUSG00002074970</th><td>  0</td><td>   0</td><td>   0</td><td>  0</td><td>   0</td><td>   0</td></tr>\n",
              "\t<tr><th scope=row>ENSMUSG00002075729</th><td>  0</td><td>   0</td><td>   0</td><td>  0</td><td>   0</td><td>   0</td></tr>\n",
              "\t<tr><th scope=row>ENSMUSG00002074899</th><td>  0</td><td>   0</td><td>   0</td><td>  0</td><td>   0</td><td>   0</td></tr>\n",
              "\t<tr><th scope=row>ENSMUSG00002076890</th><td>  0</td><td>   0</td><td>   0</td><td>  0</td><td>   0</td><td>   0</td></tr>\n",
              "\t<tr><th scope=row>ENSMUSG00000095742</th><td>292</td><td>1698</td><td>3469</td><td>246</td><td>1447</td><td>1628</td></tr>\n",
              "</tbody>\n",
              "</table>\n"
            ],
            "text/markdown": "\nA data.frame: 56980 × 6\n\n| <!--/--> | Con1 &lt;int&gt; | Con2 &lt;int&gt; | Con3 &lt;int&gt; | Ko1 &lt;int&gt; | Ko2 &lt;int&gt; | Ko3 &lt;int&gt; |\n|---|---|---|---|---|---|---|\n| ENSMUSG00000102628 |   0 |    0 |    0 |   0 |    0 |    0 |\n| ENSMUSG00000100595 |   0 |    0 |    0 |   0 |    0 |    0 |\n| ENSMUSG00000097426 |   0 |    0 |    2 |   0 |    0 |    0 |\n| ENSMUSG00000104478 |   0 |    0 |    0 |   0 |    0 |    0 |\n| ENSMUSG00000104385 |   0 |    0 |    0 |   0 |    0 |    0 |\n| ENSMUSG00000086053 |   0 |    0 |    0 |   0 |    0 |    0 |\n| ENSMUSG00000101231 |   0 |    0 |    0 |   0 |    0 |    0 |\n| ENSMUSG00000102135 |   6 |    0 |    9 |   0 |   12 |    2 |\n| ENSMUSG00000103282 |   0 |    0 |    0 |   0 |    0 |    0 |\n| ENSMUSG00000101097 |   0 |    0 |    0 |   0 |    0 |    0 |\n| ENSMUSG00000100764 |   1 |   17 |    8 |   0 |    4 |   12 |\n| ENSMUSG00000102095 |   0 |    4 |    0 |   0 |    0 |    2 |\n| ENSMUSG00000102534 |   0 |    0 |    3 |   0 |    0 |    0 |\n| ENSMUSG00000100831 |   0 |    0 |    0 |   0 |    0 |    0 |\n| ENSMUSG00000100884 |   0 |    0 |    0 |   0 |    0 |    0 |\n| ENSMUSG00000100635 |   0 |    0 |    0 |   0 |    0 |    0 |\n| ENSMUSG00000102213 |   0 |    0 |    0 |   0 |    0 |    0 |\n| ENSMUSG00000100480 |   2 |    0 |   18 |   2 |    6 |    4 |\n| ENSMUSG00000089037 |   0 |    0 |    0 |   0 |    0 |    0 |\n| ENSMUSG00000103629 |   0 |    0 |    0 |   0 |    0 |    0 |\n| ENSMUSG00002076531 |   0 |    0 |    0 |   0 |    0 |    0 |\n| ENSMUSG00000100025 |   8 |    0 |    6 |   0 |    0 |    0 |\n| ENSMUSG00000051285 | 912 | 2910 | 9632 | 818 | 3940 | 7162 |\n| ENSMUSG00000098201 |   0 |    0 |    0 |   0 |    0 |    0 |\n| ENSMUSG00000103509 |   0 |    2 |   24 |   0 |    0 |    0 |\n| ENSMUSG00000048538 |  24 |  188 |  522 |  18 |  337 |  360 |\n| ENSMUSG00000103709 |   0 |    0 |    0 |   0 |    0 |    0 |\n| ENSMUSG00000077244 |   0 |    0 |    0 |   0 |    0 |    0 |\n| ENSMUSG00000102768 |   0 |    0 |    0 |   0 |    0 |    0 |\n| ENSMUSG00000097797 |  18 |   40 |   28 |   0 |    0 |   13 |\n| ⋮ | ⋮ | ⋮ | ⋮ | ⋮ | ⋮ | ⋮ |\n| ENSMUSG00000096236 |   0 |    0 |    0 |   0 |    0 |    0 |\n| ENSMUSG00000096756 |   0 |    0 |    0 |   0 |    0 |    0 |\n| ENSMUSG00000095666 |   0 |    0 |    0 |   0 |    0 |    0 |\n| ENSMUSG00000096680 |   0 |    0 |    0 |   0 |    0 |    0 |\n| ENSMUSG00000095505 |   0 |    0 |    0 |   0 |    0 |    0 |\n| ENSMUSG00000094741 |   0 |    0 |    0 |   0 |    0 |    0 |\n| ENSMUSG00000074720 |   0 |    0 |    0 |   0 |    0 |    0 |\n| ENSMUSG00000094337 |   0 |    0 |    0 |   0 |    0 |    0 |\n| ENSMUSG00000095570 |   0 |    0 |    0 |   0 |    0 |    0 |\n| ENSMUSG00000096728 |   0 |    0 |    0 |   0 |    0 |    0 |\n| ENSMUSG00000094722 |   0 |    0 |    0 |   0 |    0 |    0 |\n| ENSMUSG00000095728 |   0 |    0 |    0 |   0 |    0 |    0 |\n| ENSMUSG00000095076 |   0 |    0 |    0 |   0 |    0 |    0 |\n| ENSMUSG00000096776 |   0 |    0 |    0 |   0 |    0 |    0 |\n| ENSMUSG00000096244 |   0 |    0 |    0 |   0 |    0 |    0 |\n| ENSMUSG00000079800 |   0 |    0 |    0 |   0 |    0 |    0 |\n| ENSMUSG00000095092 |   0 |    0 |    0 |   0 |    0 |    0 |\n| ENSMUSG00000079192 |   0 |    0 |    4 |   0 |    4 |    0 |\n| ENSMUSG00000079794 |   0 |    0 |    0 |   0 |    0 |    0 |\n| ENSMUSG00000094799 |   0 |    0 |    0 |   0 |    0 |    0 |\n| ENSMUSG00000095019 |   0 |    0 |    0 |   0 |    0 |    0 |\n| ENSMUSG00000094915 |   0 |    0 |    0 |   0 |    0 |    0 |\n| ENSMUSG00000079808 |   0 |   28 |   12 |   0 |    5 |    4 |\n| ENSMUSG00000095041 | 773 | 3590 | 9950 | 301 | 1720 | 2172 |\n| ENSMUSG00002075400 |   0 |    0 |    0 |   0 |    0 |    0 |\n| ENSMUSG00002074970 |   0 |    0 |    0 |   0 |    0 |    0 |\n| ENSMUSG00002075729 |   0 |    0 |    0 |   0 |    0 |    0 |\n| ENSMUSG00002074899 |   0 |    0 |    0 |   0 |    0 |    0 |\n| ENSMUSG00002076890 |   0 |    0 |    0 |   0 |    0 |    0 |\n| ENSMUSG00000095742 | 292 | 1698 | 3469 | 246 | 1447 | 1628 |\n\n",
            "text/latex": "A data.frame: 56980 × 6\n\\begin{tabular}{r|llllll}\n  & Con1 & Con2 & Con3 & Ko1 & Ko2 & Ko3\\\\\n  & <int> & <int> & <int> & <int> & <int> & <int>\\\\\n\\hline\n\tENSMUSG00000102628 &   0 &    0 &    0 &   0 &    0 &    0\\\\\n\tENSMUSG00000100595 &   0 &    0 &    0 &   0 &    0 &    0\\\\\n\tENSMUSG00000097426 &   0 &    0 &    2 &   0 &    0 &    0\\\\\n\tENSMUSG00000104478 &   0 &    0 &    0 &   0 &    0 &    0\\\\\n\tENSMUSG00000104385 &   0 &    0 &    0 &   0 &    0 &    0\\\\\n\tENSMUSG00000086053 &   0 &    0 &    0 &   0 &    0 &    0\\\\\n\tENSMUSG00000101231 &   0 &    0 &    0 &   0 &    0 &    0\\\\\n\tENSMUSG00000102135 &   6 &    0 &    9 &   0 &   12 &    2\\\\\n\tENSMUSG00000103282 &   0 &    0 &    0 &   0 &    0 &    0\\\\\n\tENSMUSG00000101097 &   0 &    0 &    0 &   0 &    0 &    0\\\\\n\tENSMUSG00000100764 &   1 &   17 &    8 &   0 &    4 &   12\\\\\n\tENSMUSG00000102095 &   0 &    4 &    0 &   0 &    0 &    2\\\\\n\tENSMUSG00000102534 &   0 &    0 &    3 &   0 &    0 &    0\\\\\n\tENSMUSG00000100831 &   0 &    0 &    0 &   0 &    0 &    0\\\\\n\tENSMUSG00000100884 &   0 &    0 &    0 &   0 &    0 &    0\\\\\n\tENSMUSG00000100635 &   0 &    0 &    0 &   0 &    0 &    0\\\\\n\tENSMUSG00000102213 &   0 &    0 &    0 &   0 &    0 &    0\\\\\n\tENSMUSG00000100480 &   2 &    0 &   18 &   2 &    6 &    4\\\\\n\tENSMUSG00000089037 &   0 &    0 &    0 &   0 &    0 &    0\\\\\n\tENSMUSG00000103629 &   0 &    0 &    0 &   0 &    0 &    0\\\\\n\tENSMUSG00002076531 &   0 &    0 &    0 &   0 &    0 &    0\\\\\n\tENSMUSG00000100025 &   8 &    0 &    6 &   0 &    0 &    0\\\\\n\tENSMUSG00000051285 & 912 & 2910 & 9632 & 818 & 3940 & 7162\\\\\n\tENSMUSG00000098201 &   0 &    0 &    0 &   0 &    0 &    0\\\\\n\tENSMUSG00000103509 &   0 &    2 &   24 &   0 &    0 &    0\\\\\n\tENSMUSG00000048538 &  24 &  188 &  522 &  18 &  337 &  360\\\\\n\tENSMUSG00000103709 &   0 &    0 &    0 &   0 &    0 &    0\\\\\n\tENSMUSG00000077244 &   0 &    0 &    0 &   0 &    0 &    0\\\\\n\tENSMUSG00000102768 &   0 &    0 &    0 &   0 &    0 &    0\\\\\n\tENSMUSG00000097797 &  18 &   40 &   28 &   0 &    0 &   13\\\\\n\t⋮ & ⋮ & ⋮ & ⋮ & ⋮ & ⋮ & ⋮\\\\\n\tENSMUSG00000096236 &   0 &    0 &    0 &   0 &    0 &    0\\\\\n\tENSMUSG00000096756 &   0 &    0 &    0 &   0 &    0 &    0\\\\\n\tENSMUSG00000095666 &   0 &    0 &    0 &   0 &    0 &    0\\\\\n\tENSMUSG00000096680 &   0 &    0 &    0 &   0 &    0 &    0\\\\\n\tENSMUSG00000095505 &   0 &    0 &    0 &   0 &    0 &    0\\\\\n\tENSMUSG00000094741 &   0 &    0 &    0 &   0 &    0 &    0\\\\\n\tENSMUSG00000074720 &   0 &    0 &    0 &   0 &    0 &    0\\\\\n\tENSMUSG00000094337 &   0 &    0 &    0 &   0 &    0 &    0\\\\\n\tENSMUSG00000095570 &   0 &    0 &    0 &   0 &    0 &    0\\\\\n\tENSMUSG00000096728 &   0 &    0 &    0 &   0 &    0 &    0\\\\\n\tENSMUSG00000094722 &   0 &    0 &    0 &   0 &    0 &    0\\\\\n\tENSMUSG00000095728 &   0 &    0 &    0 &   0 &    0 &    0\\\\\n\tENSMUSG00000095076 &   0 &    0 &    0 &   0 &    0 &    0\\\\\n\tENSMUSG00000096776 &   0 &    0 &    0 &   0 &    0 &    0\\\\\n\tENSMUSG00000096244 &   0 &    0 &    0 &   0 &    0 &    0\\\\\n\tENSMUSG00000079800 &   0 &    0 &    0 &   0 &    0 &    0\\\\\n\tENSMUSG00000095092 &   0 &    0 &    0 &   0 &    0 &    0\\\\\n\tENSMUSG00000079192 &   0 &    0 &    4 &   0 &    4 &    0\\\\\n\tENSMUSG00000079794 &   0 &    0 &    0 &   0 &    0 &    0\\\\\n\tENSMUSG00000094799 &   0 &    0 &    0 &   0 &    0 &    0\\\\\n\tENSMUSG00000095019 &   0 &    0 &    0 &   0 &    0 &    0\\\\\n\tENSMUSG00000094915 &   0 &    0 &    0 &   0 &    0 &    0\\\\\n\tENSMUSG00000079808 &   0 &   28 &   12 &   0 &    5 &    4\\\\\n\tENSMUSG00000095041 & 773 & 3590 & 9950 & 301 & 1720 & 2172\\\\\n\tENSMUSG00002075400 &   0 &    0 &    0 &   0 &    0 &    0\\\\\n\tENSMUSG00002074970 &   0 &    0 &    0 &   0 &    0 &    0\\\\\n\tENSMUSG00002075729 &   0 &    0 &    0 &   0 &    0 &    0\\\\\n\tENSMUSG00002074899 &   0 &    0 &    0 &   0 &    0 &    0\\\\\n\tENSMUSG00002076890 &   0 &    0 &    0 &   0 &    0 &    0\\\\\n\tENSMUSG00000095742 & 292 & 1698 & 3469 & 246 & 1447 & 1628\\\\\n\\end{tabular}\n",
            "text/plain": [
              "                   Con1 Con2 Con3 Ko1 Ko2  Ko3 \n",
              "ENSMUSG00000102628   0     0    0   0    0    0\n",
              "ENSMUSG00000100595   0     0    0   0    0    0\n",
              "ENSMUSG00000097426   0     0    2   0    0    0\n",
              "ENSMUSG00000104478   0     0    0   0    0    0\n",
              "ENSMUSG00000104385   0     0    0   0    0    0\n",
              "ENSMUSG00000086053   0     0    0   0    0    0\n",
              "ENSMUSG00000101231   0     0    0   0    0    0\n",
              "ENSMUSG00000102135   6     0    9   0   12    2\n",
              "ENSMUSG00000103282   0     0    0   0    0    0\n",
              "ENSMUSG00000101097   0     0    0   0    0    0\n",
              "ENSMUSG00000100764   1    17    8   0    4   12\n",
              "ENSMUSG00000102095   0     4    0   0    0    2\n",
              "ENSMUSG00000102534   0     0    3   0    0    0\n",
              "ENSMUSG00000100831   0     0    0   0    0    0\n",
              "ENSMUSG00000100884   0     0    0   0    0    0\n",
              "ENSMUSG00000100635   0     0    0   0    0    0\n",
              "ENSMUSG00000102213   0     0    0   0    0    0\n",
              "ENSMUSG00000100480   2     0   18   2    6    4\n",
              "ENSMUSG00000089037   0     0    0   0    0    0\n",
              "ENSMUSG00000103629   0     0    0   0    0    0\n",
              "ENSMUSG00002076531   0     0    0   0    0    0\n",
              "ENSMUSG00000100025   8     0    6   0    0    0\n",
              "ENSMUSG00000051285 912  2910 9632 818 3940 7162\n",
              "ENSMUSG00000098201   0     0    0   0    0    0\n",
              "ENSMUSG00000103509   0     2   24   0    0    0\n",
              "ENSMUSG00000048538  24   188  522  18  337  360\n",
              "ENSMUSG00000103709   0     0    0   0    0    0\n",
              "ENSMUSG00000077244   0     0    0   0    0    0\n",
              "ENSMUSG00000102768   0     0    0   0    0    0\n",
              "ENSMUSG00000097797  18    40   28   0    0   13\n",
              "⋮                  ⋮    ⋮    ⋮    ⋮   ⋮    ⋮   \n",
              "ENSMUSG00000096236   0     0    0   0    0    0\n",
              "ENSMUSG00000096756   0     0    0   0    0    0\n",
              "ENSMUSG00000095666   0     0    0   0    0    0\n",
              "ENSMUSG00000096680   0     0    0   0    0    0\n",
              "ENSMUSG00000095505   0     0    0   0    0    0\n",
              "ENSMUSG00000094741   0     0    0   0    0    0\n",
              "ENSMUSG00000074720   0     0    0   0    0    0\n",
              "ENSMUSG00000094337   0     0    0   0    0    0\n",
              "ENSMUSG00000095570   0     0    0   0    0    0\n",
              "ENSMUSG00000096728   0     0    0   0    0    0\n",
              "ENSMUSG00000094722   0     0    0   0    0    0\n",
              "ENSMUSG00000095728   0     0    0   0    0    0\n",
              "ENSMUSG00000095076   0     0    0   0    0    0\n",
              "ENSMUSG00000096776   0     0    0   0    0    0\n",
              "ENSMUSG00000096244   0     0    0   0    0    0\n",
              "ENSMUSG00000079800   0     0    0   0    0    0\n",
              "ENSMUSG00000095092   0     0    0   0    0    0\n",
              "ENSMUSG00000079192   0     0    4   0    4    0\n",
              "ENSMUSG00000079794   0     0    0   0    0    0\n",
              "ENSMUSG00000094799   0     0    0   0    0    0\n",
              "ENSMUSG00000095019   0     0    0   0    0    0\n",
              "ENSMUSG00000094915   0     0    0   0    0    0\n",
              "ENSMUSG00000079808   0    28   12   0    5    4\n",
              "ENSMUSG00000095041 773  3590 9950 301 1720 2172\n",
              "ENSMUSG00002075400   0     0    0   0    0    0\n",
              "ENSMUSG00002074970   0     0    0   0    0    0\n",
              "ENSMUSG00002075729   0     0    0   0    0    0\n",
              "ENSMUSG00002074899   0     0    0   0    0    0\n",
              "ENSMUSG00002076890   0     0    0   0    0    0\n",
              "ENSMUSG00000095742 292  1698 3469 246 1447 1628"
            ]
          },
          "metadata": {}
        }
      ]
    },
    {
      "cell_type": "code",
      "source": [
        "# Remover linhas só com zeros\n",
        "# A função apply aplica a função fornecida (function(x) any(x != 0)) a cada linha do data frame (1 indica linhas, 2 indicaria colunas)\n",
        "# O resultado é um vetor lógico que indica quais linhas têm algum valor diferente de zero\n",
        "# Este vetor lógico é então usado para selecionar as linhas do data frame\n",
        "data <- data[apply(data, 1, function(x) any(x != 0)), ]\n",
        "data"
      ],
      "metadata": {
        "id": "RH7V2bcFSHST",
        "outputId": "437b2540-718c-4772-e453-710785c205d0",
        "colab": {
          "base_uri": "https://localhost:8080/",
          "height": 1000
        }
      },
      "execution_count": 16,
      "outputs": [
        {
          "output_type": "display_data",
          "data": {
            "text/html": [
              "<table class=\"dataframe\">\n",
              "<caption>A data.frame: 28937 × 6</caption>\n",
              "<thead>\n",
              "\t<tr><th></th><th scope=col>Con1</th><th scope=col>Con2</th><th scope=col>Con3</th><th scope=col>Ko1</th><th scope=col>Ko2</th><th scope=col>Ko3</th></tr>\n",
              "\t<tr><th></th><th scope=col>&lt;int&gt;</th><th scope=col>&lt;int&gt;</th><th scope=col>&lt;int&gt;</th><th scope=col>&lt;int&gt;</th><th scope=col>&lt;int&gt;</th><th scope=col>&lt;int&gt;</th></tr>\n",
              "</thead>\n",
              "<tbody>\n",
              "\t<tr><th scope=row>ENSMUSG00000097426</th><td>   0</td><td>   0</td><td>    2</td><td>   0</td><td>   0</td><td>   0</td></tr>\n",
              "\t<tr><th scope=row>ENSMUSG00000102135</th><td>   6</td><td>   0</td><td>    9</td><td>   0</td><td>  12</td><td>   2</td></tr>\n",
              "\t<tr><th scope=row>ENSMUSG00000100764</th><td>   1</td><td>  17</td><td>    8</td><td>   0</td><td>   4</td><td>  12</td></tr>\n",
              "\t<tr><th scope=row>ENSMUSG00000102095</th><td>   0</td><td>   4</td><td>    0</td><td>   0</td><td>   0</td><td>   2</td></tr>\n",
              "\t<tr><th scope=row>ENSMUSG00000102534</th><td>   0</td><td>   0</td><td>    3</td><td>   0</td><td>   0</td><td>   0</td></tr>\n",
              "\t<tr><th scope=row>ENSMUSG00000100480</th><td>   2</td><td>   0</td><td>   18</td><td>   2</td><td>   6</td><td>   4</td></tr>\n",
              "\t<tr><th scope=row>ENSMUSG00000100025</th><td>   8</td><td>   0</td><td>    6</td><td>   0</td><td>   0</td><td>   0</td></tr>\n",
              "\t<tr><th scope=row>ENSMUSG00000051285</th><td> 912</td><td>2910</td><td> 9632</td><td> 818</td><td>3940</td><td>7162</td></tr>\n",
              "\t<tr><th scope=row>ENSMUSG00000103509</th><td>   0</td><td>   2</td><td>   24</td><td>   0</td><td>   0</td><td>   0</td></tr>\n",
              "\t<tr><th scope=row>ENSMUSG00000048538</th><td>  24</td><td> 188</td><td>  522</td><td>  18</td><td> 337</td><td> 360</td></tr>\n",
              "\t<tr><th scope=row>ENSMUSG00000097797</th><td>  18</td><td>  40</td><td>   28</td><td>   0</td><td>   0</td><td>  13</td></tr>\n",
              "\t<tr><th scope=row>ENSMUSG00000026312</th><td>  74</td><td> 194</td><td>  719</td><td> 132</td><td> 650</td><td> 881</td></tr>\n",
              "\t<tr><th scope=row>ENSMUSG00000039748</th><td>  12</td><td>  10</td><td>   32</td><td>   0</td><td>  26</td><td>  16</td></tr>\n",
              "\t<tr><th scope=row>ENSMUSG00000057363</th><td> 324</td><td>1428</td><td> 4082</td><td> 204</td><td>1569</td><td>1750</td></tr>\n",
              "\t<tr><th scope=row>ENSMUSG00000047216</th><td>  10</td><td>  18</td><td>   38</td><td>   0</td><td>  50</td><td> 100</td></tr>\n",
              "\t<tr><th scope=row>ENSMUSG00000090243</th><td>   2</td><td>   0</td><td>   10</td><td>   0</td><td>   0</td><td>   0</td></tr>\n",
              "\t<tr><th scope=row>ENSMUSG00000100701</th><td>   0</td><td>   2</td><td>   17</td><td>   0</td><td>   8</td><td>   4</td></tr>\n",
              "\t<tr><th scope=row>ENSMUSG00000100555</th><td>   0</td><td>   0</td><td>    2</td><td>   0</td><td>   0</td><td>   0</td></tr>\n",
              "\t<tr><th scope=row>ENSMUSG00000038702</th><td> 114</td><td> 531</td><td> 1532</td><td>  78</td><td> 400</td><td> 808</td></tr>\n",
              "\t<tr><th scope=row>ENSMUSG00000033021</th><td>1910</td><td>9928</td><td>24751</td><td>1089</td><td>5927</td><td>7543</td></tr>\n",
              "\t<tr><th scope=row>ENSMUSG00000055214</th><td>  16</td><td>  34</td><td>   20</td><td>   2</td><td>  20</td><td>  10</td></tr>\n",
              "\t<tr><th scope=row>ENSMUSG00000078184</th><td>   6</td><td>   4</td><td>   28</td><td>   0</td><td>   2</td><td>   2</td></tr>\n",
              "\t<tr><th scope=row>ENSMUSG00000033007</th><td>   1</td><td>   0</td><td>   13</td><td>   0</td><td>   2</td><td>   8</td></tr>\n",
              "\t<tr><th scope=row>ENSMUSG00000102605</th><td>   0</td><td>   0</td><td>   26</td><td>   0</td><td>  44</td><td>  11</td></tr>\n",
              "\t<tr><th scope=row>ENSMUSG00000070695</th><td>   6</td><td>  56</td><td>   18</td><td>   0</td><td>   0</td><td>   6</td></tr>\n",
              "\t<tr><th scope=row>ENSMUSG00000025909</th><td>  97</td><td> 374</td><td> 1154</td><td>  92</td><td> 371</td><td> 720</td></tr>\n",
              "\t<tr><th scope=row>ENSMUSG00000086235</th><td>   0</td><td>   2</td><td>    7</td><td>   0</td><td>  10</td><td>   0</td></tr>\n",
              "\t<tr><th scope=row>ENSMUSG00000084353</th><td>   4</td><td>  23</td><td>    6</td><td>   0</td><td>  10</td><td>  10</td></tr>\n",
              "\t<tr><th scope=row>ENSMUSG00002076328</th><td>   0</td><td>   0</td><td>    1</td><td>   0</td><td>   0</td><td>   0</td></tr>\n",
              "\t<tr><th scope=row>ENSMUSG00000103933</th><td>   2</td><td>   2</td><td>    8</td><td>   0</td><td>   8</td><td>   2</td></tr>\n",
              "\t<tr><th scope=row>⋮</th><td>⋮</td><td>⋮</td><td>⋮</td><td>⋮</td><td>⋮</td><td>⋮</td></tr>\n",
              "\t<tr><th scope=row>ENSMUSG00000064339</th><td>21931</td><td> 71237</td><td> 198489</td><td> 8333</td><td> 48585</td><td> 55486</td></tr>\n",
              "\t<tr><th scope=row>ENSMUSG00000064340</th><td>    0</td><td>     0</td><td>      1</td><td>    0</td><td>     0</td><td>     0</td></tr>\n",
              "\t<tr><th scope=row>ENSMUSG00000064341</th><td>23598</td><td> 80214</td><td> 309114</td><td>17796</td><td> 75130</td><td> 93442</td></tr>\n",
              "\t<tr><th scope=row>ENSMUSG00000064345</th><td>21600</td><td> 78631</td><td> 315067</td><td>13336</td><td> 62184</td><td> 80618</td></tr>\n",
              "\t<tr><th scope=row>ENSMUSG00000064348</th><td>   15</td><td>    24</td><td>     94</td><td>    2</td><td>    16</td><td>    20</td></tr>\n",
              "\t<tr><th scope=row>ENSMUSG00000064349</th><td>    8</td><td>    30</td><td>     76</td><td>    2</td><td>    21</td><td>    13</td></tr>\n",
              "\t<tr><th scope=row>ENSMUSG00000064351</th><td>69548</td><td>255927</td><td>1052245</td><td>58690</td><td>250922</td><td>332794</td></tr>\n",
              "\t<tr><th scope=row>ENSMUSG00000064352</th><td>    0</td><td>     1</td><td>      1</td><td>    0</td><td>     1</td><td>     0</td></tr>\n",
              "\t<tr><th scope=row>ENSMUSG00000064354</th><td>33985</td><td>121552</td><td> 506065</td><td>28518</td><td>117710</td><td>144113</td></tr>\n",
              "\t<tr><th scope=row>ENSMUSG00000064356</th><td> 3288</td><td> 11474</td><td>  47747</td><td> 3046</td><td> 14384</td><td> 21163</td></tr>\n",
              "\t<tr><th scope=row>ENSMUSG00000064357</th><td>37790</td><td>134187</td><td> 521388</td><td>33791</td><td>148726</td><td>195234</td></tr>\n",
              "\t<tr><th scope=row>ENSMUSG00000064358</th><td>47823</td><td>180626</td><td> 681194</td><td>40562</td><td>192385</td><td>262878</td></tr>\n",
              "\t<tr><th scope=row>ENSMUSG00000064360</th><td>10869</td><td> 34122</td><td>  76124</td><td> 5212</td><td> 28702</td><td> 29621</td></tr>\n",
              "\t<tr><th scope=row>ENSMUSG00000065947</th><td> 2335</td><td>  9159</td><td>  39619</td><td> 1829</td><td> 10120</td><td> 16542</td></tr>\n",
              "\t<tr><th scope=row>ENSMUSG00000064363</th><td>30586</td><td>103607</td><td> 412869</td><td>22162</td><td> 97489</td><td>128967</td></tr>\n",
              "\t<tr><th scope=row>ENSMUSG00000064367</th><td>14758</td><td> 52947</td><td> 217331</td><td>12710</td><td> 58238</td><td> 88605</td></tr>\n",
              "\t<tr><th scope=row>ENSMUSG00000064368</th><td> 8195</td><td> 30697</td><td> 111342</td><td> 7164</td><td> 29208</td><td> 33934</td></tr>\n",
              "\t<tr><th scope=row>ENSMUSG00000064369</th><td>    0</td><td>     0</td><td>      2</td><td>    0</td><td>     0</td><td>     0</td></tr>\n",
              "\t<tr><th scope=row>ENSMUSG00000064370</th><td>34218</td><td>120658</td><td> 469190</td><td>27058</td><td>117151</td><td>149991</td></tr>\n",
              "\t<tr><th scope=row>ENSMUSG00000064372</th><td>   72</td><td>   256</td><td>   1000</td><td>   49</td><td>   275</td><td>   279</td></tr>\n",
              "\t<tr><th scope=row>ENSMUSG00000095787</th><td>    0</td><td>     0</td><td>      2</td><td>    0</td><td>     0</td><td>     0</td></tr>\n",
              "\t<tr><th scope=row>ENSMUSG00000095672</th><td>    0</td><td>     2</td><td>      0</td><td>    0</td><td>     0</td><td>     0</td></tr>\n",
              "\t<tr><th scope=row>ENSMUSG00000079190</th><td>    0</td><td>     0</td><td>      0</td><td>    0</td><td>     4</td><td>     0</td></tr>\n",
              "\t<tr><th scope=row>ENSMUSG00000095450</th><td>    0</td><td>     0</td><td>      2</td><td>    0</td><td>     0</td><td>     0</td></tr>\n",
              "\t<tr><th scope=row>ENSMUSG00000094728</th><td>    0</td><td>     0</td><td>      2</td><td>    0</td><td>     0</td><td>     0</td></tr>\n",
              "\t<tr><th scope=row>ENSMUSG00000062783</th><td>    0</td><td>     6</td><td>      4</td><td>    4</td><td>     2</td><td>     0</td></tr>\n",
              "\t<tr><th scope=row>ENSMUSG00000079192</th><td>    0</td><td>     0</td><td>      4</td><td>    0</td><td>     4</td><td>     0</td></tr>\n",
              "\t<tr><th scope=row>ENSMUSG00000079808</th><td>    0</td><td>    28</td><td>     12</td><td>    0</td><td>     5</td><td>     4</td></tr>\n",
              "\t<tr><th scope=row>ENSMUSG00000095041</th><td>  773</td><td>  3590</td><td>   9950</td><td>  301</td><td>  1720</td><td>  2172</td></tr>\n",
              "\t<tr><th scope=row>ENSMUSG00000095742</th><td>  292</td><td>  1698</td><td>   3469</td><td>  246</td><td>  1447</td><td>  1628</td></tr>\n",
              "</tbody>\n",
              "</table>\n"
            ],
            "text/markdown": "\nA data.frame: 28937 × 6\n\n| <!--/--> | Con1 &lt;int&gt; | Con2 &lt;int&gt; | Con3 &lt;int&gt; | Ko1 &lt;int&gt; | Ko2 &lt;int&gt; | Ko3 &lt;int&gt; |\n|---|---|---|---|---|---|---|\n| ENSMUSG00000097426 |    0 |    0 |     2 |    0 |    0 |    0 |\n| ENSMUSG00000102135 |    6 |    0 |     9 |    0 |   12 |    2 |\n| ENSMUSG00000100764 |    1 |   17 |     8 |    0 |    4 |   12 |\n| ENSMUSG00000102095 |    0 |    4 |     0 |    0 |    0 |    2 |\n| ENSMUSG00000102534 |    0 |    0 |     3 |    0 |    0 |    0 |\n| ENSMUSG00000100480 |    2 |    0 |    18 |    2 |    6 |    4 |\n| ENSMUSG00000100025 |    8 |    0 |     6 |    0 |    0 |    0 |\n| ENSMUSG00000051285 |  912 | 2910 |  9632 |  818 | 3940 | 7162 |\n| ENSMUSG00000103509 |    0 |    2 |    24 |    0 |    0 |    0 |\n| ENSMUSG00000048538 |   24 |  188 |   522 |   18 |  337 |  360 |\n| ENSMUSG00000097797 |   18 |   40 |    28 |    0 |    0 |   13 |\n| ENSMUSG00000026312 |   74 |  194 |   719 |  132 |  650 |  881 |\n| ENSMUSG00000039748 |   12 |   10 |    32 |    0 |   26 |   16 |\n| ENSMUSG00000057363 |  324 | 1428 |  4082 |  204 | 1569 | 1750 |\n| ENSMUSG00000047216 |   10 |   18 |    38 |    0 |   50 |  100 |\n| ENSMUSG00000090243 |    2 |    0 |    10 |    0 |    0 |    0 |\n| ENSMUSG00000100701 |    0 |    2 |    17 |    0 |    8 |    4 |\n| ENSMUSG00000100555 |    0 |    0 |     2 |    0 |    0 |    0 |\n| ENSMUSG00000038702 |  114 |  531 |  1532 |   78 |  400 |  808 |\n| ENSMUSG00000033021 | 1910 | 9928 | 24751 | 1089 | 5927 | 7543 |\n| ENSMUSG00000055214 |   16 |   34 |    20 |    2 |   20 |   10 |\n| ENSMUSG00000078184 |    6 |    4 |    28 |    0 |    2 |    2 |\n| ENSMUSG00000033007 |    1 |    0 |    13 |    0 |    2 |    8 |\n| ENSMUSG00000102605 |    0 |    0 |    26 |    0 |   44 |   11 |\n| ENSMUSG00000070695 |    6 |   56 |    18 |    0 |    0 |    6 |\n| ENSMUSG00000025909 |   97 |  374 |  1154 |   92 |  371 |  720 |\n| ENSMUSG00000086235 |    0 |    2 |     7 |    0 |   10 |    0 |\n| ENSMUSG00000084353 |    4 |   23 |     6 |    0 |   10 |   10 |\n| ENSMUSG00002076328 |    0 |    0 |     1 |    0 |    0 |    0 |\n| ENSMUSG00000103933 |    2 |    2 |     8 |    0 |    8 |    2 |\n| ⋮ | ⋮ | ⋮ | ⋮ | ⋮ | ⋮ | ⋮ |\n| ENSMUSG00000064339 | 21931 |  71237 |  198489 |  8333 |  48585 |  55486 |\n| ENSMUSG00000064340 |     0 |      0 |       1 |     0 |      0 |      0 |\n| ENSMUSG00000064341 | 23598 |  80214 |  309114 | 17796 |  75130 |  93442 |\n| ENSMUSG00000064345 | 21600 |  78631 |  315067 | 13336 |  62184 |  80618 |\n| ENSMUSG00000064348 |    15 |     24 |      94 |     2 |     16 |     20 |\n| ENSMUSG00000064349 |     8 |     30 |      76 |     2 |     21 |     13 |\n| ENSMUSG00000064351 | 69548 | 255927 | 1052245 | 58690 | 250922 | 332794 |\n| ENSMUSG00000064352 |     0 |      1 |       1 |     0 |      1 |      0 |\n| ENSMUSG00000064354 | 33985 | 121552 |  506065 | 28518 | 117710 | 144113 |\n| ENSMUSG00000064356 |  3288 |  11474 |   47747 |  3046 |  14384 |  21163 |\n| ENSMUSG00000064357 | 37790 | 134187 |  521388 | 33791 | 148726 | 195234 |\n| ENSMUSG00000064358 | 47823 | 180626 |  681194 | 40562 | 192385 | 262878 |\n| ENSMUSG00000064360 | 10869 |  34122 |   76124 |  5212 |  28702 |  29621 |\n| ENSMUSG00000065947 |  2335 |   9159 |   39619 |  1829 |  10120 |  16542 |\n| ENSMUSG00000064363 | 30586 | 103607 |  412869 | 22162 |  97489 | 128967 |\n| ENSMUSG00000064367 | 14758 |  52947 |  217331 | 12710 |  58238 |  88605 |\n| ENSMUSG00000064368 |  8195 |  30697 |  111342 |  7164 |  29208 |  33934 |\n| ENSMUSG00000064369 |     0 |      0 |       2 |     0 |      0 |      0 |\n| ENSMUSG00000064370 | 34218 | 120658 |  469190 | 27058 | 117151 | 149991 |\n| ENSMUSG00000064372 |    72 |    256 |    1000 |    49 |    275 |    279 |\n| ENSMUSG00000095787 |     0 |      0 |       2 |     0 |      0 |      0 |\n| ENSMUSG00000095672 |     0 |      2 |       0 |     0 |      0 |      0 |\n| ENSMUSG00000079190 |     0 |      0 |       0 |     0 |      4 |      0 |\n| ENSMUSG00000095450 |     0 |      0 |       2 |     0 |      0 |      0 |\n| ENSMUSG00000094728 |     0 |      0 |       2 |     0 |      0 |      0 |\n| ENSMUSG00000062783 |     0 |      6 |       4 |     4 |      2 |      0 |\n| ENSMUSG00000079192 |     0 |      0 |       4 |     0 |      4 |      0 |\n| ENSMUSG00000079808 |     0 |     28 |      12 |     0 |      5 |      4 |\n| ENSMUSG00000095041 |   773 |   3590 |    9950 |   301 |   1720 |   2172 |\n| ENSMUSG00000095742 |   292 |   1698 |    3469 |   246 |   1447 |   1628 |\n\n",
            "text/latex": "A data.frame: 28937 × 6\n\\begin{tabular}{r|llllll}\n  & Con1 & Con2 & Con3 & Ko1 & Ko2 & Ko3\\\\\n  & <int> & <int> & <int> & <int> & <int> & <int>\\\\\n\\hline\n\tENSMUSG00000097426 &    0 &    0 &     2 &    0 &    0 &    0\\\\\n\tENSMUSG00000102135 &    6 &    0 &     9 &    0 &   12 &    2\\\\\n\tENSMUSG00000100764 &    1 &   17 &     8 &    0 &    4 &   12\\\\\n\tENSMUSG00000102095 &    0 &    4 &     0 &    0 &    0 &    2\\\\\n\tENSMUSG00000102534 &    0 &    0 &     3 &    0 &    0 &    0\\\\\n\tENSMUSG00000100480 &    2 &    0 &    18 &    2 &    6 &    4\\\\\n\tENSMUSG00000100025 &    8 &    0 &     6 &    0 &    0 &    0\\\\\n\tENSMUSG00000051285 &  912 & 2910 &  9632 &  818 & 3940 & 7162\\\\\n\tENSMUSG00000103509 &    0 &    2 &    24 &    0 &    0 &    0\\\\\n\tENSMUSG00000048538 &   24 &  188 &   522 &   18 &  337 &  360\\\\\n\tENSMUSG00000097797 &   18 &   40 &    28 &    0 &    0 &   13\\\\\n\tENSMUSG00000026312 &   74 &  194 &   719 &  132 &  650 &  881\\\\\n\tENSMUSG00000039748 &   12 &   10 &    32 &    0 &   26 &   16\\\\\n\tENSMUSG00000057363 &  324 & 1428 &  4082 &  204 & 1569 & 1750\\\\\n\tENSMUSG00000047216 &   10 &   18 &    38 &    0 &   50 &  100\\\\\n\tENSMUSG00000090243 &    2 &    0 &    10 &    0 &    0 &    0\\\\\n\tENSMUSG00000100701 &    0 &    2 &    17 &    0 &    8 &    4\\\\\n\tENSMUSG00000100555 &    0 &    0 &     2 &    0 &    0 &    0\\\\\n\tENSMUSG00000038702 &  114 &  531 &  1532 &   78 &  400 &  808\\\\\n\tENSMUSG00000033021 & 1910 & 9928 & 24751 & 1089 & 5927 & 7543\\\\\n\tENSMUSG00000055214 &   16 &   34 &    20 &    2 &   20 &   10\\\\\n\tENSMUSG00000078184 &    6 &    4 &    28 &    0 &    2 &    2\\\\\n\tENSMUSG00000033007 &    1 &    0 &    13 &    0 &    2 &    8\\\\\n\tENSMUSG00000102605 &    0 &    0 &    26 &    0 &   44 &   11\\\\\n\tENSMUSG00000070695 &    6 &   56 &    18 &    0 &    0 &    6\\\\\n\tENSMUSG00000025909 &   97 &  374 &  1154 &   92 &  371 &  720\\\\\n\tENSMUSG00000086235 &    0 &    2 &     7 &    0 &   10 &    0\\\\\n\tENSMUSG00000084353 &    4 &   23 &     6 &    0 &   10 &   10\\\\\n\tENSMUSG00002076328 &    0 &    0 &     1 &    0 &    0 &    0\\\\\n\tENSMUSG00000103933 &    2 &    2 &     8 &    0 &    8 &    2\\\\\n\t⋮ & ⋮ & ⋮ & ⋮ & ⋮ & ⋮ & ⋮\\\\\n\tENSMUSG00000064339 & 21931 &  71237 &  198489 &  8333 &  48585 &  55486\\\\\n\tENSMUSG00000064340 &     0 &      0 &       1 &     0 &      0 &      0\\\\\n\tENSMUSG00000064341 & 23598 &  80214 &  309114 & 17796 &  75130 &  93442\\\\\n\tENSMUSG00000064345 & 21600 &  78631 &  315067 & 13336 &  62184 &  80618\\\\\n\tENSMUSG00000064348 &    15 &     24 &      94 &     2 &     16 &     20\\\\\n\tENSMUSG00000064349 &     8 &     30 &      76 &     2 &     21 &     13\\\\\n\tENSMUSG00000064351 & 69548 & 255927 & 1052245 & 58690 & 250922 & 332794\\\\\n\tENSMUSG00000064352 &     0 &      1 &       1 &     0 &      1 &      0\\\\\n\tENSMUSG00000064354 & 33985 & 121552 &  506065 & 28518 & 117710 & 144113\\\\\n\tENSMUSG00000064356 &  3288 &  11474 &   47747 &  3046 &  14384 &  21163\\\\\n\tENSMUSG00000064357 & 37790 & 134187 &  521388 & 33791 & 148726 & 195234\\\\\n\tENSMUSG00000064358 & 47823 & 180626 &  681194 & 40562 & 192385 & 262878\\\\\n\tENSMUSG00000064360 & 10869 &  34122 &   76124 &  5212 &  28702 &  29621\\\\\n\tENSMUSG00000065947 &  2335 &   9159 &   39619 &  1829 &  10120 &  16542\\\\\n\tENSMUSG00000064363 & 30586 & 103607 &  412869 & 22162 &  97489 & 128967\\\\\n\tENSMUSG00000064367 & 14758 &  52947 &  217331 & 12710 &  58238 &  88605\\\\\n\tENSMUSG00000064368 &  8195 &  30697 &  111342 &  7164 &  29208 &  33934\\\\\n\tENSMUSG00000064369 &     0 &      0 &       2 &     0 &      0 &      0\\\\\n\tENSMUSG00000064370 & 34218 & 120658 &  469190 & 27058 & 117151 & 149991\\\\\n\tENSMUSG00000064372 &    72 &    256 &    1000 &    49 &    275 &    279\\\\\n\tENSMUSG00000095787 &     0 &      0 &       2 &     0 &      0 &      0\\\\\n\tENSMUSG00000095672 &     0 &      2 &       0 &     0 &      0 &      0\\\\\n\tENSMUSG00000079190 &     0 &      0 &       0 &     0 &      4 &      0\\\\\n\tENSMUSG00000095450 &     0 &      0 &       2 &     0 &      0 &      0\\\\\n\tENSMUSG00000094728 &     0 &      0 &       2 &     0 &      0 &      0\\\\\n\tENSMUSG00000062783 &     0 &      6 &       4 &     4 &      2 &      0\\\\\n\tENSMUSG00000079192 &     0 &      0 &       4 &     0 &      4 &      0\\\\\n\tENSMUSG00000079808 &     0 &     28 &      12 &     0 &      5 &      4\\\\\n\tENSMUSG00000095041 &   773 &   3590 &    9950 &   301 &   1720 &   2172\\\\\n\tENSMUSG00000095742 &   292 &   1698 &    3469 &   246 &   1447 &   1628\\\\\n\\end{tabular}\n",
            "text/plain": [
              "                   Con1  Con2   Con3    Ko1   Ko2    Ko3   \n",
              "ENSMUSG00000097426    0     0       2      0     0      0  \n",
              "ENSMUSG00000102135    6     0       9      0    12      2  \n",
              "ENSMUSG00000100764    1    17       8      0     4     12  \n",
              "ENSMUSG00000102095    0     4       0      0     0      2  \n",
              "ENSMUSG00000102534    0     0       3      0     0      0  \n",
              "ENSMUSG00000100480    2     0      18      2     6      4  \n",
              "ENSMUSG00000100025    8     0       6      0     0      0  \n",
              "ENSMUSG00000051285  912  2910    9632    818  3940   7162  \n",
              "ENSMUSG00000103509    0     2      24      0     0      0  \n",
              "ENSMUSG00000048538   24   188     522     18   337    360  \n",
              "ENSMUSG00000097797   18    40      28      0     0     13  \n",
              "ENSMUSG00000026312   74   194     719    132   650    881  \n",
              "ENSMUSG00000039748   12    10      32      0    26     16  \n",
              "ENSMUSG00000057363  324  1428    4082    204  1569   1750  \n",
              "ENSMUSG00000047216   10    18      38      0    50    100  \n",
              "ENSMUSG00000090243    2     0      10      0     0      0  \n",
              "ENSMUSG00000100701    0     2      17      0     8      4  \n",
              "ENSMUSG00000100555    0     0       2      0     0      0  \n",
              "ENSMUSG00000038702  114   531    1532     78   400    808  \n",
              "ENSMUSG00000033021 1910  9928   24751   1089  5927   7543  \n",
              "ENSMUSG00000055214   16    34      20      2    20     10  \n",
              "ENSMUSG00000078184    6     4      28      0     2      2  \n",
              "ENSMUSG00000033007    1     0      13      0     2      8  \n",
              "ENSMUSG00000102605    0     0      26      0    44     11  \n",
              "ENSMUSG00000070695    6    56      18      0     0      6  \n",
              "ENSMUSG00000025909   97   374    1154     92   371    720  \n",
              "ENSMUSG00000086235    0     2       7      0    10      0  \n",
              "ENSMUSG00000084353    4    23       6      0    10     10  \n",
              "ENSMUSG00002076328    0     0       1      0     0      0  \n",
              "ENSMUSG00000103933    2     2       8      0     8      2  \n",
              "⋮                  ⋮     ⋮      ⋮       ⋮     ⋮      ⋮     \n",
              "ENSMUSG00000064339 21931  71237  198489  8333  48585  55486\n",
              "ENSMUSG00000064340     0      0       1     0      0      0\n",
              "ENSMUSG00000064341 23598  80214  309114 17796  75130  93442\n",
              "ENSMUSG00000064345 21600  78631  315067 13336  62184  80618\n",
              "ENSMUSG00000064348    15     24      94     2     16     20\n",
              "ENSMUSG00000064349     8     30      76     2     21     13\n",
              "ENSMUSG00000064351 69548 255927 1052245 58690 250922 332794\n",
              "ENSMUSG00000064352     0      1       1     0      1      0\n",
              "ENSMUSG00000064354 33985 121552  506065 28518 117710 144113\n",
              "ENSMUSG00000064356  3288  11474   47747  3046  14384  21163\n",
              "ENSMUSG00000064357 37790 134187  521388 33791 148726 195234\n",
              "ENSMUSG00000064358 47823 180626  681194 40562 192385 262878\n",
              "ENSMUSG00000064360 10869  34122   76124  5212  28702  29621\n",
              "ENSMUSG00000065947  2335   9159   39619  1829  10120  16542\n",
              "ENSMUSG00000064363 30586 103607  412869 22162  97489 128967\n",
              "ENSMUSG00000064367 14758  52947  217331 12710  58238  88605\n",
              "ENSMUSG00000064368  8195  30697  111342  7164  29208  33934\n",
              "ENSMUSG00000064369     0      0       2     0      0      0\n",
              "ENSMUSG00000064370 34218 120658  469190 27058 117151 149991\n",
              "ENSMUSG00000064372    72    256    1000    49    275    279\n",
              "ENSMUSG00000095787     0      0       2     0      0      0\n",
              "ENSMUSG00000095672     0      2       0     0      0      0\n",
              "ENSMUSG00000079190     0      0       0     0      4      0\n",
              "ENSMUSG00000095450     0      0       2     0      0      0\n",
              "ENSMUSG00000094728     0      0       2     0      0      0\n",
              "ENSMUSG00000062783     0      6       4     4      2      0\n",
              "ENSMUSG00000079192     0      0       4     0      4      0\n",
              "ENSMUSG00000079808     0     28      12     0      5      4\n",
              "ENSMUSG00000095041   773   3590    9950   301   1720   2172\n",
              "ENSMUSG00000095742   292   1698    3469   246   1447   1628"
            ]
          },
          "metadata": {}
        }
      ]
    },
    {
      "cell_type": "code",
      "source": [
        "# Create a column data frame with multiple samples per condition\n",
        "metadata <- data.frame(condition = factor(c(\"control\", \"control\", \"control\", \"knockout\", \"knockout\",\"knockout\")),\n",
        "                     row.names = colnames(data))\n",
        "\n",
        "metadata\n"
      ],
      "metadata": {
        "id": "1XxAj_IQaU4e",
        "outputId": "2c9a3630-03a9-4d18-def1-06e4ee7435f3",
        "colab": {
          "base_uri": "https://localhost:8080/",
          "height": 286
        }
      },
      "execution_count": 19,
      "outputs": [
        {
          "output_type": "display_data",
          "data": {
            "text/html": [
              "<table class=\"dataframe\">\n",
              "<caption>A data.frame: 6 × 1</caption>\n",
              "<thead>\n",
              "\t<tr><th></th><th scope=col>condition</th></tr>\n",
              "\t<tr><th></th><th scope=col>&lt;fct&gt;</th></tr>\n",
              "</thead>\n",
              "<tbody>\n",
              "\t<tr><th scope=row>Con1</th><td>control </td></tr>\n",
              "\t<tr><th scope=row>Con2</th><td>control </td></tr>\n",
              "\t<tr><th scope=row>Con3</th><td>control </td></tr>\n",
              "\t<tr><th scope=row>Ko1</th><td>knockout</td></tr>\n",
              "\t<tr><th scope=row>Ko2</th><td>knockout</td></tr>\n",
              "\t<tr><th scope=row>Ko3</th><td>knockout</td></tr>\n",
              "</tbody>\n",
              "</table>\n"
            ],
            "text/markdown": "\nA data.frame: 6 × 1\n\n| <!--/--> | condition &lt;fct&gt; |\n|---|---|\n| Con1 | control  |\n| Con2 | control  |\n| Con3 | control  |\n| Ko1 | knockout |\n| Ko2 | knockout |\n| Ko3 | knockout |\n\n",
            "text/latex": "A data.frame: 6 × 1\n\\begin{tabular}{r|l}\n  & condition\\\\\n  & <fct>\\\\\n\\hline\n\tCon1 & control \\\\\n\tCon2 & control \\\\\n\tCon3 & control \\\\\n\tKo1 & knockout\\\\\n\tKo2 & knockout\\\\\n\tKo3 & knockout\\\\\n\\end{tabular}\n",
            "text/plain": [
              "     condition\n",
              "Con1 control  \n",
              "Con2 control  \n",
              "Con3 control  \n",
              "Ko1  knockout \n",
              "Ko2  knockout \n",
              "Ko3  knockout "
            ]
          },
          "metadata": {}
        }
      ]
    },
    {
      "cell_type": "markdown",
      "source": [
        "# 🖥️ Métodos de Normalização de dados"
      ],
      "metadata": {
        "id": "SwZ5Qrovyvfl"
      }
    },
    {
      "cell_type": "markdown",
      "source": [
        "Os dados em bioinformática e noutras áreas da computação e ciência de dados são tipicamente organizados de forma eficiente em objectos como **vetores**, **matrizes**, **arrays**, **dataframes**, **listas**:\n",
        "\n",
        "- **Vetores**: É uma conjunto unidimensional de elementos do mesmo tipo.\n",
        "- **Matrizes**: É uma conjunto bidimensional (contém linhas e colunas) de elementos do mesmo tipo.\n",
        "- **Array**: É uma coleção de qualquer número de dimensões. Por exemplo uma coleção de matrizes. Cada dimensão em um array é um eixo.\n",
        "- **Dataframe**: É um conjunto bidimensional (contém linhas e colunas) de elementos de tipos diferentes.\n",
        "- **Lista**: É uma coleção de elementos que podem ser de diferentes tipos."
      ],
      "metadata": {
        "id": "L4Of4HLO6QUf"
      }
    },
    {
      "cell_type": "markdown",
      "source": [
        "# Redução de dimensionalidade\n",
        "\n"
      ],
      "metadata": {
        "id": "dYQHHDr5Uhxa"
      }
    },
    {
      "cell_type": "markdown",
      "source": [
        "© Nuno S. Osório, 2024\n"
      ],
      "metadata": {
        "id": "muGJpV0VgLOq"
      }
    }
  ],
  "metadata": {
    "kernelspec": {
      "display_name": "R",
      "name": "ir"
    },
    "language_info": {
      "name": "R"
    },
    "colab": {
      "provenance": []
    }
  },
  "nbformat": 4,
  "nbformat_minor": 0
}