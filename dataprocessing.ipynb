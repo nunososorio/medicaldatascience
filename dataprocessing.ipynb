{
  "cells": [
    {
      "cell_type": "code",
      "source": [
        "!curl -L -o 'GSE129338_RAW.tar' 'https://www.ncbi.nlm.nih.gov/geo/download/?acc=GSE129338&format=file'"
      ],
      "metadata": {
        "id": "7XDDja09bhit",
        "outputId": "4f16166c-0c13-4b31-8ecc-275375aa86d0",
        "colab": {
          "base_uri": "https://localhost:8080/"
        }
      },
      "id": "7XDDja09bhit",
      "execution_count": 12,
      "outputs": [
        {
          "output_type": "stream",
          "name": "stdout",
          "text": [
            "  % Total    % Received % Xferd  Average Speed   Time    Time     Time  Current\n",
            "                                 Dload  Upload   Total   Spent    Left  Speed\n",
            "100 16.4M  100 16.4M    0     0  4407k      0  0:00:03  0:00:03 --:--:-- 4408k\n"
          ]
        }
      ]
    },
    {
      "cell_type": "code",
      "source": [
        "import tarfile\n",
        "\n",
        "def untar_file(file_path, extract_path):\n",
        "    with tarfile.open(file_path, 'r') as tar:\n",
        "        tar.extractall(path=extract_path)\n",
        "\n",
        "# Usage\n",
        "untar_file('GSE129338_RAW.tar', './')\n",
        "\n"
      ],
      "metadata": {
        "id": "x_fZJG3pdrEm"
      },
      "id": "x_fZJG3pdrEm",
      "execution_count": 15,
      "outputs": []
    },
    {
      "cell_type": "code",
      "source": [
        "import os\n",
        "import gzip\n",
        "import shutil\n",
        "\n",
        "def ungzip_all_files(directory):\n",
        "    for filename in os.listdir(directory):\n",
        "        if filename.endswith('.gz'):\n",
        "            with gzip.open(os.path.join(directory, filename), 'rb') as f_in:\n",
        "                with open(os.path.join(directory, filename[:-3]), 'wb') as f_out:\n",
        "                    shutil.copyfileobj(f_in, f_out)\n",
        "\n",
        "# Usage\n",
        "ungzip_all_files('./')\n"
      ],
      "metadata": {
        "id": "puUHXBkVf1V4"
      },
      "id": "puUHXBkVf1V4",
      "execution_count": 16,
      "outputs": []
    },
    {
      "cell_type": "code",
      "source": [
        "import pandas as pd\n",
        "import os\n",
        "\n",
        "# Directory containing the text files\n",
        "txt_dir = './'\n",
        "\n",
        "# Directory to save the Excel files\n",
        "excel_dir = './'\n",
        "\n",
        "# Iterate over all files in the directory\n",
        "for filename in os.listdir(txt_dir):\n",
        "    # Check if the file is a text file\n",
        "    if filename.endswith('.txt'):\n",
        "        # Read the text file into a pandas DataFrame\n",
        "        df = pd.read_csv(os.path.join(txt_dir, filename), delimiter='\\t')\n",
        "\n",
        "        # Convert the .txt extension to .xlsx\n",
        "        excel_filename = filename.replace('.txt', '.xlsx')\n",
        "\n",
        "        # Write the DataFrame to an Excel file\n",
        "        df.to_excel(os.path.join(excel_dir, excel_filename), index=False)\n"
      ],
      "metadata": {
        "id": "7bZvrx8cgYU2"
      },
      "id": "7bZvrx8cgYU2",
      "execution_count": 20,
      "outputs": []
    },
    {
      "cell_type": "code",
      "source": [
        "import os\n",
        "import zipfile\n",
        "from google.colab import files\n",
        "\n",
        "# Directory containing the Excel files\n",
        "excel_dir = './'\n",
        "\n",
        "# Create a Zip file\n",
        "with zipfile.ZipFile('GSM3711336.zip', 'w') as zipf:\n",
        "    # Iterate over all files in the directory\n",
        "    for filename in os.listdir(excel_dir):\n",
        "        # Check if the file is an Excel file\n",
        "        if filename.endswith('.xlsx'):\n",
        "            # Add the Excel file to the Zip file\n",
        "            zipf.write(os.path.join(excel_dir, filename))\n",
        "\n",
        "# Download the Zip file\n",
        "files.download('GSM3711336.zip')\n"
      ],
      "metadata": {
        "id": "L0pDJdpPhGKP",
        "outputId": "4e06a269-b424-4e62-b900-dfa32f20d89c",
        "colab": {
          "base_uri": "https://localhost:8080/",
          "height": 17
        }
      },
      "id": "L0pDJdpPhGKP",
      "execution_count": 22,
      "outputs": [
        {
          "output_type": "display_data",
          "data": {
            "text/plain": [
              "<IPython.core.display.Javascript object>"
            ],
            "application/javascript": [
              "\n",
              "    async function download(id, filename, size) {\n",
              "      if (!google.colab.kernel.accessAllowed) {\n",
              "        return;\n",
              "      }\n",
              "      const div = document.createElement('div');\n",
              "      const label = document.createElement('label');\n",
              "      label.textContent = `Downloading \"${filename}\": `;\n",
              "      div.appendChild(label);\n",
              "      const progress = document.createElement('progress');\n",
              "      progress.max = size;\n",
              "      div.appendChild(progress);\n",
              "      document.body.appendChild(div);\n",
              "\n",
              "      const buffers = [];\n",
              "      let downloaded = 0;\n",
              "\n",
              "      const channel = await google.colab.kernel.comms.open(id);\n",
              "      // Send a message to notify the kernel that we're ready.\n",
              "      channel.send({})\n",
              "\n",
              "      for await (const message of channel.messages) {\n",
              "        // Send a message to notify the kernel that we're ready.\n",
              "        channel.send({})\n",
              "        if (message.buffers) {\n",
              "          for (const buffer of message.buffers) {\n",
              "            buffers.push(buffer);\n",
              "            downloaded += buffer.byteLength;\n",
              "            progress.value = downloaded;\n",
              "          }\n",
              "        }\n",
              "      }\n",
              "      const blob = new Blob(buffers, {type: 'application/binary'});\n",
              "      const a = document.createElement('a');\n",
              "      a.href = window.URL.createObjectURL(blob);\n",
              "      a.download = filename;\n",
              "      div.appendChild(a);\n",
              "      a.click();\n",
              "      div.remove();\n",
              "    }\n",
              "  "
            ]
          },
          "metadata": {}
        },
        {
          "output_type": "display_data",
          "data": {
            "text/plain": [
              "<IPython.core.display.Javascript object>"
            ],
            "application/javascript": [
              "download(\"download_fb847d42-2ac6-4d73-aec8-67b388243df6\", \"GSM3711336.zip\", 41747669)"
            ]
          },
          "metadata": {}
        }
      ]
    }
  ],
  "metadata": {
    "colab": {
      "provenance": []
    },
    "kernelspec": {
      "display_name": "Python 3",
      "language": "python",
      "name": "python3"
    },
    "language_info": {
      "codemirror_mode": {
        "name": "ipython",
        "version": 3
      },
      "file_extension": ".py",
      "mimetype": "text/x-python",
      "name": "python",
      "nbconvert_exporter": "python",
      "pygments_lexer": "ipython3",
      "version": "3.7.3"
    }
  },
  "nbformat": 4,
  "nbformat_minor": 5
}